{
 "cells": [
  {
   "cell_type": "markdown",
   "id": "7ad0d115",
   "metadata": {},
   "source": [
    "## 1) Write a Python program to convert kilometers to miles?\n"
   ]
  },
  {
   "cell_type": "code",
   "execution_count": 1,
   "id": "141e304b",
   "metadata": {},
   "outputs": [
    {
     "name": "stdout",
     "output_type": "stream",
     "text": [
      "Enter the distance in kilometers: 45\n",
      "Distance in miles: 27.961695\n"
     ]
    }
   ],
   "source": [
    "# Program to convert kilometers to miles\n",
    "\n",
    "# Input kilometers\n",
    "kilometers = float(input(\"Enter the distance in kilometers: \"))\n",
    "\n",
    "# Conversion factor\n",
    "conversion_factor = 0.621371\n",
    "\n",
    "# Convert kilometers to miles\n",
    "miles = kilometers * conversion_factor\n",
    "\n",
    "print(\"Distance in miles:\", miles)"
   ]
  },
  {
   "cell_type": "markdown",
   "id": "5959bfc3",
   "metadata": {},
   "source": [
    "## 2) Write a Python program to convert Celsius to Fahrenheit?"
   ]
  },
  {
   "cell_type": "code",
   "execution_count": 2,
   "id": "285f5570",
   "metadata": {},
   "outputs": [
    {
     "name": "stdout",
     "output_type": "stream",
     "text": [
      "Enter the temperature in Celsius: 45\n",
      "Temperature in Fahrenheit: 113.0\n"
     ]
    }
   ],
   "source": [
    "# Program to convert Celsius to Fahrenheit\n",
    "\n",
    "# Input Celsius temperature\n",
    "celsius = float(input(\"Enter the temperature in Celsius: \"))\n",
    "\n",
    "# Convert Celsius to Fahrenheit\n",
    "fahrenheit = (celsius * 9/5) + 32\n",
    "\n",
    "print(\"Temperature in Fahrenheit:\", fahrenheit)"
   ]
  },
  {
   "cell_type": "markdown",
   "id": "e2778a75",
   "metadata": {},
   "source": [
    "## 3) Write a Python program to display calendar?"
   ]
  },
  {
   "cell_type": "code",
   "execution_count": 3,
   "id": "093de60c",
   "metadata": {},
   "outputs": [
    {
     "name": "stdout",
     "output_type": "stream",
     "text": [
      "Enter the year: 2023\n",
      "Enter the month: 7\n",
      "     July 2023\n",
      "Mo Tu We Th Fr Sa Su\n",
      "                1  2\n",
      " 3  4  5  6  7  8  9\n",
      "10 11 12 13 14 15 16\n",
      "17 18 19 20 21 22 23\n",
      "24 25 26 27 28 29 30\n",
      "31\n",
      "\n"
     ]
    }
   ],
   "source": [
    "import calendar\n",
    "\n",
    "# Input the year and month\n",
    "year = int(input(\"Enter the year: \"))\n",
    "month = int(input(\"Enter the month: \"))\n",
    "\n",
    "# Display the calendar\n",
    "print(calendar.month(year, month))"
   ]
  },
  {
   "cell_type": "markdown",
   "id": "18dcd6f5",
   "metadata": {},
   "source": [
    "## 4) Write a Python program to solve quadratic equation?"
   ]
  },
  {
   "cell_type": "code",
   "execution_count": 4,
   "id": "4b5a83ff",
   "metadata": {},
   "outputs": [
    {
     "name": "stdout",
     "output_type": "stream",
     "text": [
      "Enter the coefficient a: 2\n",
      "Enter the coefficient b: 5\n",
      "Enter the coefficient c: 6\n",
      "The solutions are:\n",
      "Solution 1: (-1.25+1.1989578808281798j)\n",
      "Solution 2: (-1.25-1.1989578808281798j)\n"
     ]
    }
   ],
   "source": [
    "import cmath\n",
    "\n",
    "# Input coefficients\n",
    "a = float(input(\"Enter the coefficient a: \"))\n",
    "b = float(input(\"Enter the coefficient b: \"))\n",
    "c = float(input(\"Enter the coefficient c: \"))\n",
    "\n",
    "# Calculate discriminant\n",
    "discriminant = (b ** 2) - (4 * a * c)\n",
    "\n",
    "# Calculate solutions\n",
    "solution1 = (-b + cmath.sqrt(discriminant)) / (2 * a)\n",
    "solution2 = (-b - cmath.sqrt(discriminant)) / (2 * a)\n",
    "\n",
    "print(\"The solutions are:\")\n",
    "print(\"Solution 1:\", solution1)\n",
    "print(\"Solution 2:\", solution2)"
   ]
  },
  {
   "cell_type": "markdown",
   "id": "c7123ffb",
   "metadata": {},
   "source": [
    "## 5) Write a Python program to swap two variables without temp variable?"
   ]
  },
  {
   "cell_type": "code",
   "execution_count": 5,
   "id": "e87c1d01",
   "metadata": {},
   "outputs": [
    {
     "name": "stdout",
     "output_type": "stream",
     "text": [
      "Before swapping:\n",
      "x = 10\n",
      "y = 20\n",
      "\n",
      "After swapping:\n",
      "x = 20\n",
      "y = 10\n"
     ]
    }
   ],
   "source": [
    "# Program to swap two variables without using a temporary variable\n",
    "\n",
    "# Input variables\n",
    "x = 10\n",
    "y = 20\n",
    "\n",
    "print(\"Before swapping:\")\n",
    "print(\"x =\", x)\n",
    "print(\"y =\", y)\n",
    "\n",
    "# Swap the values\n",
    "x, y = y, x\n",
    "\n",
    "print(\"\\nAfter swapping:\")\n",
    "print(\"x =\", x)\n",
    "print(\"y =\", y)"
   ]
  }
 ],
 "metadata": {
  "kernelspec": {
   "display_name": "Python 3 (ipykernel)",
   "language": "python",
   "name": "python3"
  },
  "language_info": {
   "codemirror_mode": {
    "name": "ipython",
    "version": 3
   },
   "file_extension": ".py",
   "mimetype": "text/x-python",
   "name": "python",
   "nbconvert_exporter": "python",
   "pygments_lexer": "ipython3",
   "version": "3.9.13"
  }
 },
 "nbformat": 4,
 "nbformat_minor": 5
}
